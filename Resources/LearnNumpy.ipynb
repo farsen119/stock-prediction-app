{
 "cells": [
  {
   "cell_type": "code",
   "execution_count": 3,
   "id": "8edfc3ba-01f3-418e-ad11-8de7cac565f9",
   "metadata": {},
   "outputs": [],
   "source": [
    "import numpy as np"
   ]
  },
  {
   "cell_type": "code",
   "execution_count": 3,
   "id": "a75eb47e-0281-4934-8e24-aef5052d843f",
   "metadata": {},
   "outputs": [
    {
     "data": {
      "text/plain": [
       "'2.2.5'"
      ]
     },
     "execution_count": 3,
     "metadata": {},
     "output_type": "execute_result"
    }
   ],
   "source": [
    "np.__version__"
   ]
  },
  {
   "cell_type": "markdown",
   "id": "45c7a1fd-9c34-4a0f-8b27-c682d5661817",
   "metadata": {},
   "source": [
    "## Create & Read"
   ]
  },
  {
   "cell_type": "markdown",
   "id": "75a2c5b2-030b-4d7c-befa-e579a9633884",
   "metadata": {},
   "source": [
    "#### id Array"
   ]
  },
  {
   "cell_type": "code",
   "execution_count": 4,
   "id": "d4bfaad1-929f-4a8e-8e4d-92c576fe7163",
   "metadata": {},
   "outputs": [],
   "source": [
    "arra1 = np.array([1,2,3,4,5])"
   ]
  },
  {
   "cell_type": "code",
   "execution_count": 5,
   "id": "18960b90-2202-4411-ab5d-225f95fb831f",
   "metadata": {},
   "outputs": [
    {
     "data": {
      "text/plain": [
       "array([1, 2, 3, 4, 5])"
      ]
     },
     "execution_count": 5,
     "metadata": {},
     "output_type": "execute_result"
    }
   ],
   "source": [
    "arra1"
   ]
  },
  {
   "cell_type": "code",
   "execution_count": 6,
   "id": "74bc0345-1290-47f8-b79f-13ee8ca70102",
   "metadata": {},
   "outputs": [
    {
     "data": {
      "text/plain": [
       "numpy.ndarray"
      ]
     },
     "execution_count": 6,
     "metadata": {},
     "output_type": "execute_result"
    }
   ],
   "source": [
    "type(arra1)"
   ]
  },
  {
   "cell_type": "code",
   "execution_count": 7,
   "id": "d4131825-63a6-4c3f-a688-e38654a6a9f1",
   "metadata": {},
   "outputs": [
    {
     "data": {
      "text/plain": [
       "(5,)"
      ]
     },
     "execution_count": 7,
     "metadata": {},
     "output_type": "execute_result"
    }
   ],
   "source": [
    "arra1.shape"
   ]
  },
  {
   "cell_type": "code",
   "execution_count": 8,
   "id": "717aaa07-8673-4ff0-9300-d811fc0837af",
   "metadata": {},
   "outputs": [
    {
     "data": {
      "text/plain": [
       "dtype('int64')"
      ]
     },
     "execution_count": 8,
     "metadata": {},
     "output_type": "execute_result"
    }
   ],
   "source": [
    "arra1.dtype"
   ]
  },
  {
   "cell_type": "code",
   "execution_count": 9,
   "id": "7d3b3a95-c404-414b-b19b-80d416a3ca6e",
   "metadata": {},
   "outputs": [
    {
     "data": {
      "text/plain": [
       "1"
      ]
     },
     "execution_count": 9,
     "metadata": {},
     "output_type": "execute_result"
    }
   ],
   "source": [
    "arra1.ndim"
   ]
  },
  {
   "cell_type": "code",
   "execution_count": 10,
   "id": "5f18270e-38c3-4deb-ab4b-808765e5859b",
   "metadata": {},
   "outputs": [
    {
     "data": {
      "text/plain": [
       "5"
      ]
     },
     "execution_count": 10,
     "metadata": {},
     "output_type": "execute_result"
    }
   ],
   "source": [
    "arra1.size"
   ]
  },
  {
   "cell_type": "markdown",
   "id": "c39ce80d-03eb-424e-81bb-3c18547533ae",
   "metadata": {},
   "source": [
    "#### 2d Array"
   ]
  },
  {
   "cell_type": "code",
   "execution_count": 11,
   "id": "17cd7263-d1e4-4187-a75d-1034a61677a0",
   "metadata": {},
   "outputs": [],
   "source": [
    "arr2 = np.array([[1,2,3],[4,5,6]])"
   ]
  },
  {
   "cell_type": "code",
   "execution_count": 12,
   "id": "f9806fcd-80bb-40e6-884c-6acf98469a27",
   "metadata": {},
   "outputs": [
    {
     "data": {
      "text/plain": [
       "array([[1, 2, 3],\n",
       "       [4, 5, 6]])"
      ]
     },
     "execution_count": 12,
     "metadata": {},
     "output_type": "execute_result"
    }
   ],
   "source": [
    "arr2"
   ]
  },
  {
   "cell_type": "code",
   "execution_count": 13,
   "id": "26f7ed5a-d4f0-4c2f-b20a-6c77d6acb825",
   "metadata": {},
   "outputs": [
    {
     "data": {
      "text/plain": [
       "2"
      ]
     },
     "execution_count": 13,
     "metadata": {},
     "output_type": "execute_result"
    }
   ],
   "source": [
    "arr2.ndim"
   ]
  },
  {
   "cell_type": "code",
   "execution_count": 14,
   "id": "36714c94-14b8-4d76-81bb-89c32ea368ca",
   "metadata": {},
   "outputs": [
    {
     "data": {
      "text/plain": [
       "(2, 3)"
      ]
     },
     "execution_count": 14,
     "metadata": {},
     "output_type": "execute_result"
    }
   ],
   "source": [
    "arr2.shape"
   ]
  },
  {
   "cell_type": "code",
   "execution_count": 15,
   "id": "68c01200-1296-4582-8251-510249740a51",
   "metadata": {},
   "outputs": [
    {
     "data": {
      "text/plain": [
       "dtype('int64')"
      ]
     },
     "execution_count": 15,
     "metadata": {},
     "output_type": "execute_result"
    }
   ],
   "source": [
    "arr2.dtype"
   ]
  },
  {
   "cell_type": "code",
   "execution_count": 16,
   "id": "6ccc0c9d-25b8-44f3-9785-571e6b3a7c33",
   "metadata": {},
   "outputs": [
    {
     "data": {
      "text/plain": [
       "6"
      ]
     },
     "execution_count": 16,
     "metadata": {},
     "output_type": "execute_result"
    }
   ],
   "source": [
    "arr2.size"
   ]
  },
  {
   "cell_type": "markdown",
   "id": "90c6e443-4c52-40e9-a80e-8ac44d118513",
   "metadata": {},
   "source": [
    "#### 3d Array"
   ]
  },
  {
   "cell_type": "code",
   "execution_count": 17,
   "id": "49be7a5f-8129-4f35-b9b6-9e2ac20adbc9",
   "metadata": {},
   "outputs": [],
   "source": [
    "arr3 = np.array([[[1,2,3],[4,5,6]],[[1,5,7],[57,9,0]]])"
   ]
  },
  {
   "cell_type": "code",
   "execution_count": 18,
   "id": "1b53183e-c514-4c22-a28f-831b4f88cdab",
   "metadata": {},
   "outputs": [
    {
     "data": {
      "text/plain": [
       "array([[[ 1,  2,  3],\n",
       "        [ 4,  5,  6]],\n",
       "\n",
       "       [[ 1,  5,  7],\n",
       "        [57,  9,  0]]])"
      ]
     },
     "execution_count": 18,
     "metadata": {},
     "output_type": "execute_result"
    }
   ],
   "source": [
    "arr3"
   ]
  },
  {
   "cell_type": "code",
   "execution_count": 19,
   "id": "ea84c1de-f3d4-4dad-8062-35155cad2a1d",
   "metadata": {},
   "outputs": [
    {
     "data": {
      "text/plain": [
       "3"
      ]
     },
     "execution_count": 19,
     "metadata": {},
     "output_type": "execute_result"
    }
   ],
   "source": [
    "arr3.ndim"
   ]
  },
  {
   "cell_type": "code",
   "execution_count": 20,
   "id": "77f46d01-77b2-4950-bbe7-63e6488850c0",
   "metadata": {},
   "outputs": [
    {
     "data": {
      "text/plain": [
       "(2, 2, 3)"
      ]
     },
     "execution_count": 20,
     "metadata": {},
     "output_type": "execute_result"
    }
   ],
   "source": [
    "arr3.shape"
   ]
  },
  {
   "cell_type": "code",
   "execution_count": 21,
   "id": "04376bec-c68b-4b2e-8752-425711d192c7",
   "metadata": {},
   "outputs": [
    {
     "data": {
      "text/plain": [
       "12"
      ]
     },
     "execution_count": 21,
     "metadata": {},
     "output_type": "execute_result"
    }
   ],
   "source": [
    "arr3.size"
   ]
  },
  {
   "cell_type": "markdown",
   "id": "0e02c417-e5c3-4e8c-9073-67fd4585ba5c",
   "metadata": {},
   "source": [
    "## create random Array"
   ]
  },
  {
   "cell_type": "code",
   "execution_count": 4,
   "id": "fce7fb40-bb60-471f-8cef-acbf6a24d2e0",
   "metadata": {},
   "outputs": [],
   "source": [
    "randomArr = np.random.rand(3,2,3)"
   ]
  },
  {
   "cell_type": "code",
   "execution_count": 5,
   "id": "b2c5da62-f954-4d31-9d2c-f485e7433ddb",
   "metadata": {},
   "outputs": [
    {
     "data": {
      "text/plain": [
       "array([[[0.70581666, 0.27203309, 0.97108376],\n",
       "        [0.82042348, 0.40922635, 0.7624299 ]],\n",
       "\n",
       "       [[0.63505381, 0.34415534, 0.3336118 ],\n",
       "        [0.50528871, 0.52703781, 0.44927042]],\n",
       "\n",
       "       [[0.9084247 , 0.39857583, 0.29326729],\n",
       "        [0.66900654, 0.7041322 , 0.87295289]]])"
      ]
     },
     "execution_count": 5,
     "metadata": {},
     "output_type": "execute_result"
    }
   ],
   "source": [
    "randomArr"
   ]
  },
  {
   "cell_type": "code",
   "execution_count": 6,
   "id": "d176eb43-c95a-431d-9dcc-10846dcb58b2",
   "metadata": {},
   "outputs": [],
   "source": [
    "zeroas = np.zeros((3,2,3))"
   ]
  },
  {
   "cell_type": "code",
   "execution_count": 7,
   "id": "cad34891-3230-4098-8275-42fe80667edd",
   "metadata": {},
   "outputs": [
    {
     "data": {
      "text/plain": [
       "array([[[0., 0., 0.],\n",
       "        [0., 0., 0.]],\n",
       "\n",
       "       [[0., 0., 0.],\n",
       "        [0., 0., 0.]],\n",
       "\n",
       "       [[0., 0., 0.],\n",
       "        [0., 0., 0.]]])"
      ]
     },
     "execution_count": 7,
     "metadata": {},
     "output_type": "execute_result"
    }
   ],
   "source": [
    "zeroas"
   ]
  },
  {
   "cell_type": "code",
   "execution_count": 8,
   "id": "56eb6ebd-c6b5-45fd-aa2e-a6fdcf571b62",
   "metadata": {},
   "outputs": [
    {
     "data": {
      "text/plain": [
       "3"
      ]
     },
     "execution_count": 8,
     "metadata": {},
     "output_type": "execute_result"
    }
   ],
   "source": [
    "zeroas.ndim"
   ]
  },
  {
   "cell_type": "code",
   "execution_count": 9,
   "id": "6a3289c0-7e25-40ce-b223-26d6122d07e8",
   "metadata": {},
   "outputs": [
    {
     "data": {
      "text/plain": [
       "array([[[9, 9, 9],\n",
       "        [9, 9, 9]],\n",
       "\n",
       "       [[9, 9, 9],\n",
       "        [9, 9, 9]],\n",
       "\n",
       "       [[9, 9, 9],\n",
       "        [9, 9, 9]]])"
      ]
     },
     "execution_count": 9,
     "metadata": {},
     "output_type": "execute_result"
    }
   ],
   "source": [
    "full = np.full((3,2,3),9)\n",
    "full"
   ]
  },
  {
   "cell_type": "code",
   "execution_count": 10,
   "id": "78c50ee8-9cdc-4213-a67a-b9a8b6c3cfe4",
   "metadata": {},
   "outputs": [],
   "source": [
    "ones = np.ones((3,2,3))"
   ]
  },
  {
   "cell_type": "code",
   "execution_count": 11,
   "id": "8e767522-c41c-4154-8be2-3985ca43f0a3",
   "metadata": {},
   "outputs": [
    {
     "data": {
      "text/plain": [
       "array([[[1., 1., 1.],\n",
       "        [1., 1., 1.]],\n",
       "\n",
       "       [[1., 1., 1.],\n",
       "        [1., 1., 1.]],\n",
       "\n",
       "       [[1., 1., 1.],\n",
       "        [1., 1., 1.]]])"
      ]
     },
     "execution_count": 11,
     "metadata": {},
     "output_type": "execute_result"
    }
   ],
   "source": [
    "ones"
   ]
  },
  {
   "cell_type": "code",
   "execution_count": 12,
   "id": "f1d7c367-83c9-46e1-9dca-ee644f95ce6b",
   "metadata": {},
   "outputs": [
    {
     "ename": "NameError",
     "evalue": "name 'arr3' is not defined",
     "output_type": "error",
     "traceback": [
      "\u001b[31m---------------------------------------------------------------------------\u001b[39m",
      "\u001b[31mNameError\u001b[39m                                 Traceback (most recent call last)",
      "\u001b[36mCell\u001b[39m\u001b[36m \u001b[39m\u001b[32mIn[12]\u001b[39m\u001b[32m, line 1\u001b[39m\n\u001b[32m----> \u001b[39m\u001b[32m1\u001b[39m arr3\n",
      "\u001b[31mNameError\u001b[39m: name 'arr3' is not defined"
     ]
    }
   ],
   "source": [
    "arr3"
   ]
  },
  {
   "cell_type": "code",
   "execution_count": 13,
   "id": "a2508090-4695-489b-a2c8-61b71c522570",
   "metadata": {},
   "outputs": [],
   "source": [
    "arr3 = np.array([[[1,2,3],[4,5,6]],[[1,5,7],[57,9,0]]])"
   ]
  },
  {
   "cell_type": "code",
   "execution_count": 14,
   "id": "1a63ab66-1c71-4fcf-8eb0-2d92caf6cbb5",
   "metadata": {},
   "outputs": [
    {
     "data": {
      "text/plain": [
       "array([[[ 1,  2,  3],\n",
       "        [ 4,  5,  6]],\n",
       "\n",
       "       [[ 1,  5,  7],\n",
       "        [57,  9,  0]]])"
      ]
     },
     "execution_count": 14,
     "metadata": {},
     "output_type": "execute_result"
    }
   ],
   "source": [
    "arr3"
   ]
  },
  {
   "cell_type": "code",
   "execution_count": 15,
   "id": "3bc9e00b-d408-4f8c-a335-66ca7941bc37",
   "metadata": {},
   "outputs": [
    {
     "data": {
      "text/plain": [
       "array([[1, 2, 3],\n",
       "       [4, 5, 6]])"
      ]
     },
     "execution_count": 15,
     "metadata": {},
     "output_type": "execute_result"
    }
   ],
   "source": [
    " arr3[0]"
   ]
  },
  {
   "cell_type": "code",
   "execution_count": 16,
   "id": "0d648a8b-1355-43c6-ace1-6a0301df30dd",
   "metadata": {},
   "outputs": [
    {
     "data": {
      "text/plain": [
       "np.int64(1)"
      ]
     },
     "execution_count": 16,
     "metadata": {},
     "output_type": "execute_result"
    }
   ],
   "source": [
    "arr3[0][0][0]"
   ]
  },
  {
   "cell_type": "code",
   "execution_count": 17,
   "id": "ca1036ba-488e-4d2b-b89d-7909ab8ad32e",
   "metadata": {},
   "outputs": [
    {
     "data": {
      "text/plain": [
       "array([[[ 1,  2,  3],\n",
       "        [ 4,  5,  6]],\n",
       "\n",
       "       [[ 1,  5,  7],\n",
       "        [57,  9,  0]]])"
      ]
     },
     "execution_count": 17,
     "metadata": {},
     "output_type": "execute_result"
    }
   ],
   "source": [
    "arr3[0:2]"
   ]
  },
  {
   "cell_type": "code",
   "execution_count": 19,
   "id": "ff3cb6b1-9dde-4825-91ec-7a745ebf93f6",
   "metadata": {},
   "outputs": [
    {
     "data": {
      "text/plain": [
       "array([[ 1,  5,  7],\n",
       "       [57,  9,  0]])"
      ]
     },
     "execution_count": 19,
     "metadata": {},
     "output_type": "execute_result"
    }
   ],
   "source": [
    "arr3[-1]"
   ]
  },
  {
   "cell_type": "code",
   "execution_count": 20,
   "id": "331b7580-795d-498f-8825-6582772ffdf8",
   "metadata": {},
   "outputs": [
    {
     "data": {
      "text/plain": [
       "np.int64(5)"
      ]
     },
     "execution_count": 20,
     "metadata": {},
     "output_type": "execute_result"
    }
   ],
   "source": [
    "arr3[1][0][1]"
   ]
  },
  {
   "cell_type": "code",
   "execution_count": 21,
   "id": "2ffcacc3-72e9-490a-8f38-3f9ba678bf00",
   "metadata": {},
   "outputs": [
    {
     "data": {
      "text/plain": [
       "np.int64(5)"
      ]
     },
     "execution_count": 21,
     "metadata": {},
     "output_type": "execute_result"
    }
   ],
   "source": [
    "arr3[1,0,1]"
   ]
  },
  {
   "cell_type": "markdown",
   "id": "f3d75887-7fe2-4d73-a1be-b0c495eb8b85",
   "metadata": {},
   "source": [
    "## Update & Delete"
   ]
  },
  {
   "cell_type": "code",
   "execution_count": 22,
   "id": "2bcc9ca3-8d8d-468e-8bed-2742a1a741df",
   "metadata": {},
   "outputs": [],
   "source": [
    "a1 = np.random.rand(2,3,2)\n",
    "a2 = np.random.rand(2,3,2)\n",
    "\n"
   ]
  },
  {
   "cell_type": "code",
   "execution_count": 23,
   "id": "c5e90e12-3f1e-4999-b15d-f3ca02e7e359",
   "metadata": {},
   "outputs": [
    {
     "data": {
      "text/plain": [
       "array([[[0.88448535, 0.70815173],\n",
       "        [0.8917813 , 0.73413076],\n",
       "        [0.66960666, 0.61954638]],\n",
       "\n",
       "       [[0.12435228, 0.45669504],\n",
       "        [0.71754782, 0.21916793],\n",
       "        [0.63803794, 0.33880545]]])"
      ]
     },
     "execution_count": 23,
     "metadata": {},
     "output_type": "execute_result"
    }
   ],
   "source": [
    "a1"
   ]
  },
  {
   "cell_type": "code",
   "execution_count": 24,
   "id": "0c43b23c-a5d1-452a-a239-a09e7456b766",
   "metadata": {},
   "outputs": [
    {
     "data": {
      "text/plain": [
       "array([[[0.19021027, 0.53394066],\n",
       "        [0.95248408, 0.2653854 ],\n",
       "        [0.30657392, 0.57815009]],\n",
       "\n",
       "       [[0.29878584, 0.89078213],\n",
       "        [0.88686527, 0.93505014],\n",
       "        [0.46268972, 0.00359656]]])"
      ]
     },
     "execution_count": 24,
     "metadata": {},
     "output_type": "execute_result"
    }
   ],
   "source": [
    "a2"
   ]
  },
  {
   "cell_type": "code",
   "execution_count": 25,
   "id": "d976b573-c4a8-48c4-9065-de6203268bbe",
   "metadata": {},
   "outputs": [
    {
     "data": {
      "text/plain": [
       "array([[[1.07469562, 1.24209238],\n",
       "        [1.84426539, 0.99951616],\n",
       "        [0.97618058, 1.19769647]],\n",
       "\n",
       "       [[0.42313812, 1.34747717],\n",
       "        [1.60441309, 1.15421808],\n",
       "        [1.10072766, 0.34240201]]])"
      ]
     },
     "execution_count": 25,
     "metadata": {},
     "output_type": "execute_result"
    }
   ],
   "source": [
    "np.add(a1,a2)"
   ]
  },
  {
   "cell_type": "code",
   "execution_count": 26,
   "id": "16f59c87-93e3-419b-a49c-6ea076536a82",
   "metadata": {},
   "outputs": [
    {
     "data": {
      "text/plain": [
       "array([[[ 0.69427508,  0.17421107],\n",
       "        [-0.06070278,  0.46874537],\n",
       "        [ 0.36303273,  0.04139629]],\n",
       "\n",
       "       [[-0.17443356, -0.43408708],\n",
       "        [-0.16931745, -0.71588221],\n",
       "        [ 0.17534822,  0.3352089 ]]])"
      ]
     },
     "execution_count": 26,
     "metadata": {},
     "output_type": "execute_result"
    }
   ],
   "source": [
    "np.subtract(a1,a2)"
   ]
  },
  {
   "cell_type": "code",
   "execution_count": 27,
   "id": "067a0254-ef90-46fd-be62-a41f9d3005bf",
   "metadata": {},
   "outputs": [
    {
     "data": {
      "text/plain": [
       "array([[[ 4.65003998,  1.32627422],\n",
       "        [ 0.93626898,  2.7662817 ],\n",
       "        [ 2.1841605 ,  1.07160129]],\n",
       "\n",
       "       [[ 0.41619201,  0.51268995],\n",
       "        [ 0.80908323,  0.23439164],\n",
       "        [ 1.37897582, 94.20274682]]])"
      ]
     },
     "execution_count": 27,
     "metadata": {},
     "output_type": "execute_result"
    }
   ],
   "source": [
    "np.divide(a1,a2)"
   ]
  },
  {
   "cell_type": "code",
   "execution_count": 28,
   "id": "2d7521fd-ef52-4d7b-b4bf-9fca48114f0d",
   "metadata": {},
   "outputs": [
    {
     "data": {
      "text/plain": [
       "array([[[0.1682382 , 0.378111  ],\n",
       "        [0.8494075 , 0.19482758],\n",
       "        [0.20528394, 0.35819079]],\n",
       "\n",
       "       [[0.0371547 , 0.40681578],\n",
       "        [0.63636824, 0.20493301],\n",
       "        [0.2952136 , 0.00121853]]])"
      ]
     },
     "execution_count": 28,
     "metadata": {},
     "output_type": "execute_result"
    }
   ],
   "source": [
    "np.multiply(a1,a2)"
   ]
  },
  {
   "cell_type": "code",
   "execution_count": null,
   "id": "fbe463dd-a091-49f2-9471-0bd7c2210c6b",
   "metadata": {},
   "outputs": [],
   "source": []
  },
  {
   "cell_type": "code",
   "execution_count": null,
   "id": "8830b505-02b4-49ec-b592-c61b62dee1fc",
   "metadata": {},
   "outputs": [],
   "source": []
  },
  {
   "cell_type": "markdown",
   "id": "84ccf143-4373-4835-9dca-a5d2d442f984",
   "metadata": {},
   "source": [
    "## statistical operation"
   ]
  },
  {
   "cell_type": "code",
   "execution_count": 29,
   "id": "1155b1cb-a98e-41d0-a3fd-baf6036956d7",
   "metadata": {},
   "outputs": [],
   "source": [
    "sqrt = np.sqrt(25)\n",
    "abs = np.abs(-2)\n",
    "power = np.power(2,8)\n",
    "log = np.log(25)\n",
    "mins = np.min(a1)\n",
    "maxs = np.max(a2)"
   ]
  },
  {
   "cell_type": "code",
   "execution_count": 30,
   "id": "e712fac9-55b9-45ce-92f2-6b8eeaf2756f",
   "metadata": {},
   "outputs": [
    {
     "data": {
      "text/plain": [
       "np.float64(5.0)"
      ]
     },
     "execution_count": 30,
     "metadata": {},
     "output_type": "execute_result"
    }
   ],
   "source": [
    "sqrt"
   ]
  },
  {
   "cell_type": "code",
   "execution_count": 31,
   "id": "d5d0d346-e3f5-4647-b948-07c5d78ed9fa",
   "metadata": {},
   "outputs": [
    {
     "data": {
      "text/plain": [
       "np.int64(2)"
      ]
     },
     "execution_count": 31,
     "metadata": {},
     "output_type": "execute_result"
    }
   ],
   "source": [
    "abs"
   ]
  },
  {
   "cell_type": "code",
   "execution_count": 32,
   "id": "76d3cd1e-47ce-488c-ae66-473f6c81388f",
   "metadata": {},
   "outputs": [
    {
     "data": {
      "text/plain": [
       "np.int64(256)"
      ]
     },
     "execution_count": 32,
     "metadata": {},
     "output_type": "execute_result"
    }
   ],
   "source": [
    "power"
   ]
  },
  {
   "cell_type": "code",
   "execution_count": 33,
   "id": "e8b5bf2d-636e-4e32-b719-7f6e7380bdeb",
   "metadata": {},
   "outputs": [
    {
     "data": {
      "text/plain": [
       "np.float64(3.2188758248682006)"
      ]
     },
     "execution_count": 33,
     "metadata": {},
     "output_type": "execute_result"
    }
   ],
   "source": [
    "log"
   ]
  },
  {
   "cell_type": "code",
   "execution_count": 34,
   "id": "526089b9-13b5-4621-820b-32819f766844",
   "metadata": {},
   "outputs": [
    {
     "data": {
      "text/plain": [
       "np.float64(0.12435227909753621)"
      ]
     },
     "execution_count": 34,
     "metadata": {},
     "output_type": "execute_result"
    }
   ],
   "source": [
    "mins"
   ]
  },
  {
   "cell_type": "code",
   "execution_count": 35,
   "id": "eee1a4d6-5715-480c-b97e-f4ee1b262c05",
   "metadata": {},
   "outputs": [
    {
     "data": {
      "text/plain": [
       "np.float64(0.9524840826641741)"
      ]
     },
     "execution_count": 35,
     "metadata": {},
     "output_type": "execute_result"
    }
   ],
   "source": [
    "maxs"
   ]
  },
  {
   "cell_type": "code",
   "execution_count": null,
   "id": "e3d75ceb-9962-4e7c-b123-5f8f0c05a937",
   "metadata": {},
   "outputs": [],
   "source": []
  },
  {
   "cell_type": "markdown",
   "id": "486185f3-59ae-4ae3-9971-f7571e1578b6",
   "metadata": {},
   "source": [
    "#### Update"
   ]
  },
  {
   "cell_type": "code",
   "execution_count": 37,
   "id": "f0117b15-29eb-4dfc-af2b-9dd5ac5a1c96",
   "metadata": {},
   "outputs": [],
   "source": [
    "arr4 = np.array([[[1, 4, 5],\n",
    "        [6, 7, 4]],\n",
    "\n",
    "       [[3, 5, 4],\n",
    "        [5, 8, 7]],\n",
    "\n",
    "       [[1, 4, 5],\n",
    "        [6, 7, 4]]])"
   ]
  },
  {
   "cell_type": "code",
   "execution_count": 38,
   "id": "95bd5290-d49b-4e40-9f04-673405870ade",
   "metadata": {},
   "outputs": [
    {
     "data": {
      "text/plain": [
       "array([[[1, 4, 5],\n",
       "        [6, 7, 4]],\n",
       "\n",
       "       [[3, 5, 4],\n",
       "        [5, 8, 7]],\n",
       "\n",
       "       [[1, 4, 5],\n",
       "        [6, 7, 4]]])"
      ]
     },
     "execution_count": 38,
     "metadata": {},
     "output_type": "execute_result"
    }
   ],
   "source": [
    "arr4"
   ]
  },
  {
   "cell_type": "code",
   "execution_count": 39,
   "id": "5fbd18e9-e910-475a-b845-229d4f875a73",
   "metadata": {},
   "outputs": [
    {
     "data": {
      "text/plain": [
       "array([[[  1,   4, 500],\n",
       "        [  6,   7,   4]],\n",
       "\n",
       "       [[  3,   5,   4],\n",
       "        [  5,   8,   7]],\n",
       "\n",
       "       [[  1,   4,   5],\n",
       "        [  6,   7,   4]]])"
      ]
     },
     "execution_count": 39,
     "metadata": {},
     "output_type": "execute_result"
    }
   ],
   "source": [
    "arr4[0, 0, 2] = 500\n",
    "arr4"
   ]
  },
  {
   "cell_type": "code",
   "execution_count": 40,
   "id": "8d4c19f6-e0fc-4f8e-a626-215f00272ad5",
   "metadata": {},
   "outputs": [
    {
     "data": {
      "text/plain": [
       "array([[[  1,   4, 500],\n",
       "        [  4,   6,   7]],\n",
       "\n",
       "       [[  3,   4,   5],\n",
       "        [  5,   7,   8]],\n",
       "\n",
       "       [[  1,   4,   5],\n",
       "        [  4,   6,   7]]])"
      ]
     },
     "execution_count": 40,
     "metadata": {},
     "output_type": "execute_result"
    }
   ],
   "source": [
    "arr4.sort()\n",
    "arr4"
   ]
  },
  {
   "cell_type": "markdown",
   "id": "da6a0de3-6ca4-47b2-be92-d087f319ea6a",
   "metadata": {},
   "source": [
    "# reshape"
   ]
  },
  {
   "cell_type": "code",
   "execution_count": 41,
   "id": "936dcfbb-3899-48f3-a726-3f8e29aad31e",
   "metadata": {},
   "outputs": [
    {
     "data": {
      "text/plain": [
       "(3, 2, 3)"
      ]
     },
     "execution_count": 41,
     "metadata": {},
     "output_type": "execute_result"
    }
   ],
   "source": [
    "arr4.shape"
   ]
  },
  {
   "cell_type": "code",
   "execution_count": 42,
   "id": "a7fe33b1-c349-45b3-85f2-8b8779e05ccf",
   "metadata": {},
   "outputs": [
    {
     "data": {
      "text/plain": [
       "array([[[  1,   4, 500],\n",
       "        [  4,   6,   7],\n",
       "        [  3,   4,   5]],\n",
       "\n",
       "       [[  5,   7,   8],\n",
       "        [  1,   4,   5],\n",
       "        [  4,   6,   7]]])"
      ]
     },
     "execution_count": 42,
     "metadata": {},
     "output_type": "execute_result"
    }
   ],
   "source": [
    "arr4_reshape= arr4.reshape((2,3,3))\n",
    "arr4_reshape"
   ]
  },
  {
   "cell_type": "code",
   "execution_count": 43,
   "id": "59d42b52-71b0-4fe7-b587-4da32eec25ea",
   "metadata": {},
   "outputs": [
    {
     "data": {
      "text/plain": [
       "array([[[  1,   4, 500],\n",
       "        [  4,   6,   7],\n",
       "        [  3,   4,   5]],\n",
       "\n",
       "       [[  5,   7,   8],\n",
       "        [  1,   4,   5],\n",
       "        [  4,   6,   7]]])"
      ]
     },
     "execution_count": 43,
     "metadata": {},
     "output_type": "execute_result"
    }
   ],
   "source": [
    "arr4_reshape= arr4.reshape((2,3,-1))\n",
    "arr4_reshape"
   ]
  },
  {
   "cell_type": "code",
   "execution_count": null,
   "id": "f8807ad0-70af-4e07-b8a5-b0ad48bbeb22",
   "metadata": {},
   "outputs": [],
   "source": []
  },
  {
   "cell_type": "code",
   "execution_count": null,
   "id": "bfaeb2b0-966e-46b1-96a2-3284fdc925ca",
   "metadata": {},
   "outputs": [],
   "source": []
  },
  {
   "cell_type": "code",
   "execution_count": 44,
   "id": "b12e3c31-da19-438c-b4da-b3c21fc38ba5",
   "metadata": {},
   "outputs": [
    {
     "ename": "NameError",
     "evalue": "name 'zeros' is not defined",
     "output_type": "error",
     "traceback": [
      "\u001b[31m---------------------------------------------------------------------------\u001b[39m",
      "\u001b[31mNameError\u001b[39m                                 Traceback (most recent call last)",
      "\u001b[36mCell\u001b[39m\u001b[36m \u001b[39m\u001b[32mIn[44]\u001b[39m\u001b[32m, line 1\u001b[39m\n\u001b[32m----> \u001b[39m\u001b[32m1\u001b[39m zeros\n",
      "\u001b[31mNameError\u001b[39m: name 'zeros' is not defined"
     ]
    }
   ],
   "source": [
    "zeros"
   ]
  },
  {
   "cell_type": "code",
   "execution_count": 45,
   "id": "7647e86b-7886-49f9-8afe-b44ab8aceba8",
   "metadata": {},
   "outputs": [
    {
     "data": {
      "text/plain": [
       "array([[[0., 0., 0.],\n",
       "        [0., 0., 0.]],\n",
       "\n",
       "       [[0., 0., 0.],\n",
       "        [0., 0., 0.]],\n",
       "\n",
       "       [[0., 0., 0.],\n",
       "        [0., 0., 0.]]])"
      ]
     },
     "execution_count": 45,
     "metadata": {},
     "output_type": "execute_result"
    }
   ],
   "source": [
    "zeroas"
   ]
  },
  {
   "cell_type": "code",
   "execution_count": 46,
   "id": "c6d0f574-050f-46b8-aa3f-e14fa3528555",
   "metadata": {},
   "outputs": [],
   "source": [
    "#create new array\n",
    "\n",
    "new_array = np.ones((3,2,3))\n"
   ]
  },
  {
   "cell_type": "code",
   "execution_count": 47,
   "id": "e1476dfc-e151-47b9-97bc-e9d2f81e2909",
   "metadata": {},
   "outputs": [
    {
     "data": {
      "text/plain": [
       "array([[[1., 1., 1.],\n",
       "        [1., 1., 1.]],\n",
       "\n",
       "       [[1., 1., 1.],\n",
       "        [1., 1., 1.]],\n",
       "\n",
       "       [[1., 1., 1.],\n",
       "        [1., 1., 1.]]])"
      ]
     },
     "execution_count": 47,
     "metadata": {},
     "output_type": "execute_result"
    }
   ],
   "source": [
    "new_array"
   ]
  },
  {
   "cell_type": "code",
   "execution_count": 49,
   "id": "a16d7c5d-eec4-4d71-94f5-7f44d0ea09f5",
   "metadata": {},
   "outputs": [
    {
     "data": {
      "text/plain": [
       "array([[[0., 0., 0.],\n",
       "        [0., 0., 0.]],\n",
       "\n",
       "       [[0., 0., 0.],\n",
       "        [0., 0., 0.]],\n",
       "\n",
       "       [[0., 0., 0.],\n",
       "        [0., 0., 0.]],\n",
       "\n",
       "       [[1., 1., 1.],\n",
       "        [1., 1., 1.]],\n",
       "\n",
       "       [[1., 1., 1.],\n",
       "        [1., 1., 1.]],\n",
       "\n",
       "       [[1., 1., 1.],\n",
       "        [1., 1., 1.]]])"
      ]
     },
     "execution_count": 49,
     "metadata": {},
     "output_type": "execute_result"
    }
   ],
   "source": [
    "appd = np.append(zeroas, new_array, axis=0) # axis 0 = row, axis 1 = column\n",
    "appd"
   ]
  },
  {
   "cell_type": "code",
   "execution_count": 50,
   "id": "27b20a2a-d2f8-4649-86a4-3137619c0dbf",
   "metadata": {},
   "outputs": [],
   "source": [
    "#insert"
   ]
  },
  {
   "cell_type": "code",
   "execution_count": 51,
   "id": "3e4a4398-acfb-4d98-8138-401da01f7764",
   "metadata": {},
   "outputs": [
    {
     "data": {
      "text/plain": [
       "array([[[0., 0., 0.],\n",
       "        [0., 0., 0.]],\n",
       "\n",
       "       [[0., 0., 0.],\n",
       "        [0., 0., 0.]],\n",
       "\n",
       "       [[0., 0., 0.],\n",
       "        [0., 0., 0.]]])"
      ]
     },
     "execution_count": 51,
     "metadata": {},
     "output_type": "execute_result"
    }
   ],
   "source": [
    "zeroas"
   ]
  },
  {
   "cell_type": "code",
   "execution_count": 52,
   "id": "d78f7d78-e98f-43bc-879f-9fd18e5c2625",
   "metadata": {},
   "outputs": [
    {
     "data": {
      "text/plain": [
       "array([[[1., 1., 1.],\n",
       "        [1., 1., 1.]],\n",
       "\n",
       "       [[1., 1., 1.],\n",
       "        [1., 1., 1.]],\n",
       "\n",
       "       [[1., 1., 1.],\n",
       "        [1., 1., 1.]]])"
      ]
     },
     "execution_count": 52,
     "metadata": {},
     "output_type": "execute_result"
    }
   ],
   "source": [
    "new_array"
   ]
  },
  {
   "cell_type": "code",
   "execution_count": 54,
   "id": "ec3d76f3-f955-419b-b3cf-5195aac11bcd",
   "metadata": {},
   "outputs": [
    {
     "data": {
      "text/plain": [
       "array([[[0., 0., 0.],\n",
       "        [0., 0., 0.]],\n",
       "\n",
       "       [[1., 1., 1.],\n",
       "        [1., 1., 1.]],\n",
       "\n",
       "       [[1., 1., 1.],\n",
       "        [1., 1., 1.]],\n",
       "\n",
       "       [[1., 1., 1.],\n",
       "        [1., 1., 1.]],\n",
       "\n",
       "       [[0., 0., 0.],\n",
       "        [0., 0., 0.]],\n",
       "\n",
       "       [[0., 0., 0.],\n",
       "        [0., 0., 0.]]])"
      ]
     },
     "execution_count": 54,
     "metadata": {},
     "output_type": "execute_result"
    }
   ],
   "source": [
    "inserted_array = np.insert(zeroas, 1, new_array, axis=0)\n",
    "inserted_array"
   ]
  },
  {
   "cell_type": "code",
   "execution_count": null,
   "id": "69109bdd-46c1-44e8-9bd5-ab2632ae445c",
   "metadata": {},
   "outputs": [],
   "source": []
  },
  {
   "cell_type": "code",
   "execution_count": null,
   "id": "47290f4e-b1af-47d8-9503-b11aada4137a",
   "metadata": {},
   "outputs": [],
   "source": []
  },
  {
   "cell_type": "markdown",
   "id": "6cdccf06-c13a-4b31-b331-036e2e9cf672",
   "metadata": {},
   "source": [
    "#Delete"
   ]
  },
  {
   "cell_type": "code",
   "execution_count": 57,
   "id": "d5b15577-d6bb-407a-b662-65376b3e7a2f",
   "metadata": {},
   "outputs": [
    {
     "data": {
      "text/plain": [
       "array([[[0.18838079, 0.94428171, 0.77688009],\n",
       "        [0.41839652, 0.54567045, 0.09124607]],\n",
       "\n",
       "       [[0.72919589, 0.958311  , 0.366492  ],\n",
       "        [0.87159187, 0.30501034, 0.50636027]],\n",
       "\n",
       "       [[0.90623822, 0.79348172, 0.75951127],\n",
       "        [0.03141004, 0.61273746, 0.71520866]]])"
      ]
     },
     "execution_count": 57,
     "metadata": {},
     "output_type": "execute_result"
    }
   ],
   "source": [
    "arr5 = np.random.rand(3, 2, 3)\n",
    "arr5"
   ]
  },
  {
   "cell_type": "code",
   "execution_count": 58,
   "id": "2049306d-ba7c-40b3-a27b-b13168412330",
   "metadata": {},
   "outputs": [],
   "source": [
    "# delete the array\n",
    "arr6 = np.delete(arr5, 0, axis=1)"
   ]
  },
  {
   "cell_type": "code",
   "execution_count": null,
   "id": "08422e48-d5a0-411e-b132-c5c2b7798fcd",
   "metadata": {},
   "outputs": [],
   "source": []
  },
  {
   "cell_type": "code",
   "execution_count": 60,
   "id": "4a792015-5476-485b-a3e0-2e749c06fcaa",
   "metadata": {},
   "outputs": [
    {
     "data": {
      "text/plain": [
       "array([[[0.41839652, 0.54567045, 0.09124607]],\n",
       "\n",
       "       [[0.87159187, 0.30501034, 0.50636027]],\n",
       "\n",
       "       [[0.03141004, 0.61273746, 0.71520866]]])"
      ]
     },
     "execution_count": 60,
     "metadata": {},
     "output_type": "execute_result"
    }
   ],
   "source": [
    "arr6 "
   ]
  },
  {
   "cell_type": "code",
   "execution_count": 61,
   "id": "949fc7ef-c905-4305-9820-0b67a44e5c28",
   "metadata": {},
   "outputs": [],
   "source": [
    "np.save(\"new_array\", arr6)"
   ]
  },
  {
   "cell_type": "code",
   "execution_count": 62,
   "id": "c0485162-8bee-43ee-b7f0-95ae7c6c2122",
   "metadata": {},
   "outputs": [
    {
     "data": {
      "text/plain": [
       "array([[[0.41839652, 0.54567045, 0.09124607]],\n",
       "\n",
       "       [[0.87159187, 0.30501034, 0.50636027]],\n",
       "\n",
       "       [[0.03141004, 0.61273746, 0.71520866]]])"
      ]
     },
     "execution_count": 62,
     "metadata": {},
     "output_type": "execute_result"
    }
   ],
   "source": [
    "np.load(\"new_array.npy\")"
   ]
  },
  {
   "cell_type": "code",
   "execution_count": null,
   "id": "d5878267-962a-4117-9a0f-17269bb49c2f",
   "metadata": {},
   "outputs": [],
   "source": []
  }
 ],
 "metadata": {
  "kernelspec": {
   "display_name": "Python 3 (ipykernel)",
   "language": "python",
   "name": "python3"
  },
  "language_info": {
   "codemirror_mode": {
    "name": "ipython",
    "version": 3
   },
   "file_extension": ".py",
   "mimetype": "text/x-python",
   "name": "python",
   "nbconvert_exporter": "python",
   "pygments_lexer": "ipython3",
   "version": "3.13.2"
  }
 },
 "nbformat": 4,
 "nbformat_minor": 5
}
